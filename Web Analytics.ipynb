{
 "cells": [
  {
   "cell_type": "code",
   "execution_count": 2,
   "id": "49c1938c-f77b-42e9-9cb1-18e6121af968",
   "metadata": {},
   "outputs": [
    {
     "name": "stdout",
     "output_type": "stream",
     "text": [
      "  Source / Medium  Year  Month of the year    Users New Users Sessions  \\\n",
      "0               A  2019                 11  126,870   104,020  194,667   \n",
      "1               A  2019                 10  123,361   104,308  181,175   \n",
      "2               A  2019                  9  106,551    88,428  170,329   \n",
      "3               A  2019                 12   91,043    70,326  142,637   \n",
      "4               B  2019                 12   88,579    75,361  106,966   \n",
      "\n",
      "  Bounce Rate Pageviews Avg. Session Duration Conversion Rate (%)  \\\n",
      "0      71.59%   455,159               0:01:11                 0.2   \n",
      "1      41.91%   368,907               0:01:05                0.26   \n",
      "2      75.92%   368,803               0:01:01                0.18   \n",
      "3      67.06%   370,798               0:01:20                0.34   \n",
      "4      56.20%   333,480               0:01:55                0.21   \n",
      "\n",
      "  Transactions  Revenue Quantity Sold  \n",
      "0          394   83,244           482  \n",
      "1          477   94,282           599  \n",
      "2          311   54,971           415  \n",
      "3          486  103,001           607  \n",
      "4          225   47,724           317  \n"
     ]
    }
   ],
   "source": [
    "import pandas as pd\n",
    "\n",
    "df = pd.read_csv(r\"\\\\ad.wayne.edu\\Users\\ex4360\\Documents\\Web analytics\\Web Analytic_Dataset.csv\")\n",
    "print(df.head())"
   ]
  },
  {
   "cell_type": "code",
   "execution_count": 8,
   "id": "b8401e64-7a59-4516-9968-fca59b3a80a1",
   "metadata": {},
   "outputs": [
    {
     "name": "stdout",
     "output_type": "stream",
     "text": [
      "  Source / Medium   Users  Transactions  conversion_rate\n",
      "0               A  126870           394         0.003106\n",
      "1               A  123361           477         0.003867\n",
      "2               A  106551           311         0.002919\n",
      "3               A   91043           486         0.005338\n",
      "4               B   88579           225         0.002540\n"
     ]
    }
   ],
   "source": [
    "# Clean a couple of rows\n",
    "df[\"Users\"] = df[\"Users\"].astype(str).str.replace(\",\", \"\").astype(int)\n",
    "df[\"Transactions\"] = df[\"Transactions\"].astype(str).str.replace(\",\", \"\").astype(int)\n",
    "\n",
    "#Add a simple conversion rate column\n",
    "df[\"conversion_rate\"] = df[\"Transactions\"] / df[\"Users\"]\n",
    "print(df[[\"Source / Medium\", \"Users\", \"Transactions\", \"conversion_rate\"]].head())"
   ]
  },
  {
   "cell_type": "code",
   "execution_count": 9,
   "id": "821a1f15-750c-45ff-8bd7-15ff851fef16",
   "metadata": {},
   "outputs": [
    {
     "name": "stdout",
     "output_type": "stream",
     "text": [
      "                      Users  Transactions\n",
      "Source / Medium                          \n",
      "A                   1110513          7566\n",
      "AA                     2697             1\n",
      "B                    696901          2838\n",
      "BB                      382             1\n",
      "C                    255043          1689\n",
      "CC                     1333           111\n",
      "D                    107241             2\n",
      "DD                      320             9\n",
      "E                    185065          1148\n",
      "EE                      620            61\n",
      "F                    142865           823\n",
      "FF                     1213             9\n",
      "G                     53214           617\n",
      "GG                      216             0\n",
      "H                     71565            88\n",
      "HH                       81             3\n",
      "I                     54565           392\n",
      "II                      102             3\n",
      "J                     11112            27\n",
      "JJ                      610             8\n",
      "K                     22053            35\n",
      "KK                      119             0\n",
      "L                     10271            24\n",
      "M                     17944           197\n",
      "N                      6315             0\n",
      "O                      4418             9\n",
      "P                     22477           100\n",
      "R                     13004            61\n",
      "S                      6197          3907\n",
      "T                      3357            38\n",
      "U                      2830          1394\n",
      "V                      2507             2\n",
      "Y                       913             0\n",
      "Z                      5383            34\n",
      "euromessage / push       99             0\n",
      "l.K                    5004            24\n",
      "l.M                    4680            40\n",
      "lI                      660             2\n"
     ]
    }
   ],
   "source": [
    "# Compare Source A vs Source B\n",
    "grouped = df.groupby(\"Source / Medium\")[[\"Users\", \"Transactions\"]].sum()\n",
    "print(grouped)"
   ]
  },
  {
   "cell_type": "code",
   "execution_count": 10,
   "id": "4815b973-e251-46e3-8e0f-a1a27d9ab9a2",
   "metadata": {},
   "outputs": [
    {
     "name": "stdout",
     "output_type": "stream",
     "text": [
      "Conversion Rate A: 0.68 %\n",
      "Conversion Rate B: 0.41 %\n"
     ]
    }
   ],
   "source": [
    "# Calculate conversion rate for A and B\n",
    "conv_A = grouped.loc[\"A\", \"Transactions\"] / grouped.loc[\"A\", \"Users\"]\n",
    "conv_B = grouped.loc[\"B\", \"Transactions\"] / grouped.loc[\"B\", \"Users\"]\n",
    "\n",
    "print(\"Conversion Rate A:\", round(conv_A*100,2), \"%\")\n",
    "print(\"Conversion Rate B:\", round(conv_B*100,2), \"%\")"
   ]
  },
  {
   "cell_type": "code",
   "execution_count": null,
   "id": "d151b944-35c3-40be-bb76-ef879a7ab875",
   "metadata": {},
   "outputs": [],
   "source": []
  }
 ],
 "metadata": {
  "kernelspec": {
   "display_name": "Python 3 (ipykernel)",
   "language": "python",
   "name": "python3"
  },
  "language_info": {
   "codemirror_mode": {
    "name": "ipython",
    "version": 3
   },
   "file_extension": ".py",
   "mimetype": "text/x-python",
   "name": "python",
   "nbconvert_exporter": "python",
   "pygments_lexer": "ipython3",
   "version": "3.13.3"
  }
 },
 "nbformat": 4,
 "nbformat_minor": 5
}
